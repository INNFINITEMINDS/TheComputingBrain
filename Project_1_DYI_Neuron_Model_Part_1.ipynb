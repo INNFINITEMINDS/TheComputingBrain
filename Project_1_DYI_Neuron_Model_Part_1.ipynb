{
  "nbformat": 4,
  "nbformat_minor": 0,
  "metadata": {
    "colab": {
      "name": "Project 1: DYI Neuron Model - Part 1.ipynb",
      "provenance": [],
      "collapsed_sections": [
        "43TskcthQiMg",
        "3aT0aRHn8eON",
        "509DzcGxeXcI",
        "Vz3qG1oghAmR",
        "k-DV4AGMZbMA",
        "t2KYsxINaQEO"
      ],
      "toc_visible": true,
      "include_colab_link": true
    },
    "kernelspec": {
      "name": "python3",
      "display_name": "Python 3"
    }
  },
  "cells": [
    {
      "cell_type": "markdown",
      "metadata": {
        "id": "view-in-github",
        "colab_type": "text"
      },
      "source": [
        "<a href=\"https://colab.research.google.com/github/MRIO/TheComputingBrain/blob/master/Project_1_DYI_Neuron_Model_Part_1.ipynb\" target=\"_parent\"><img src=\"https://colab.research.google.com/assets/colab-badge.svg\" alt=\"Open In Colab\"/></a>"
      ]
    },
    {
      "cell_type": "markdown",
      "metadata": {
        "id": "B287VpGfYWG9",
        "colab_type": "text"
      },
      "source": [
        "# To be able to edit and use this Notebook:\n",
        "\n",
        "0. Learn about how to use google colaboratory [video]()\n",
        "1. in the file menu (top left), click ```open in playground```\n",
        "3. still in the file menu, click ```save copy in drive```, to make your own personalized and editable copy of this file.\n",
        "4. edit as you like. If something breaks irreparably, go back to step 1."
      ]
    },
    {
      "cell_type": "markdown",
      "metadata": {
        "colab_type": "text",
        "id": "43TskcthQiMg"
      },
      "source": [
        "# Project 1: A DIY Neuron Model\n",
        "\n"
      ]
    },
    {
      "cell_type": "markdown",
      "metadata": {
        "id": "JWxy67mxS8iW",
        "colab_type": "text"
      },
      "source": [
        "### Previous Project:\n",
        "In the previous project, you have learned that:\n",
        "- individual ions lead to individual **equilibrium potentials** or **Nernst** potential.\n",
        "- when different ion concentrations exist inside and outside the cell, the cells settles in a ***resting potential***, which is given by the weighted average of the different conductances.\n",
        "\n",
        "### In this Project:\n",
        "You will synthetize the **Hodgkin Huxley model of action potential** piece by piece. We will be building understanding as we present the components of the model along with with some simulated experiments (using the 'brian2' simulator), sample code and simple coding exercises. We begin by describing the **passive properties** of the membrane (leak and capacitance) then introduce the **active** components and the **voltage gated** ion channels. In the second part of the project we will examine the completed Hodgkin Huxley model and conduct some experiements using the model. \n",
        "\n",
        "Questions during the project are designed as self-evaluation (for you to test your own comprehension). If you have doubts about particular answers, ask your neighbor, your TA or your professor (in that order).\n",
        "\n",
        "### The landmarks in the road map:\n",
        "\n",
        "1. (Project 0) The electrical potential across membrane is due to differences in chemical concentration.\n",
        "2. The concentration of chemicals is altered by flux of ions across the membrane via ion channels.\n",
        "3. Membrane permeability to different ions varies as a function of the membrane potential (active channels).\n",
        "4. Positive feedback creates an accelerating rise of positive currents due to sodium channels.\n",
        "5. High membrane potential actives potassium channels (a negative feedback).\n",
        "6. Spikes are due to the different time scales of ion permeability."
      ]
    },
    {
      "cell_type": "markdown",
      "metadata": {
        "id": "t4I9GWWuw77P",
        "colab_type": "text"
      },
      "source": [
        "### The Hodgkin Huxley Model:\n",
        "The origin of the action potential was a mystery to early neuroscientists when Hodgkin and Huxley proposed their model in 1952. Aided by the voltage clamp technique, and the persuasion that they could model the physics of the neuron as an electrical circuit, they set out to understand the mechanism underlying the generation of the action potential. In their [concluding paper](https://www.ncbi.nlm.nih.gov/pmc/articles/PMC1392413/pdf/jphysiol01442-0106.pdf) in 1952, they formulated the mathematical framework most often used in computational neuroscience. Many fundamental building blocks in modelling excitable cells were laid down in this framework, which is of foundational importance to date.\n",
        "\n",
        "\n"
      ]
    },
    {
      "cell_type": "markdown",
      "metadata": {
        "id": "dibGcKwuhV6O",
        "colab_type": "text"
      },
      "source": [
        "# Key Terms"
      ]
    },
    {
      "cell_type": "markdown",
      "metadata": {
        "id": "GQN4DZfLhaXV",
        "colab_type": "text"
      },
      "source": [
        "\n",
        "- **Permeability**. The tendency of an ion to cross the membrane. Plastic is 'impermeable to water'. Expressed as a propotionality. It is proportional to the number of open channels on the membrane for an ion. Commonly expressed as relative permeability of the ion channels compared to one another. \n",
        "- **Current, _I_**. A flow of electric charge. Measured in amperes (A).\n",
        "- **Capacitance, _C_**. How well a material can *store* charge. Measured in farads (F).\n",
        "- **Resistance, _R_**. A measure of the opposition to the flow of charge (current).  Measured in ohms (Ω).\n",
        "- **Conductance, _G_**. The reciprocal of resistance (1/R), measures how easily the electricity flows through parts of the circuit for a given difference in voltage. Is an electrical property and is influenced by permeability. Measured in siemens (‎S‎ = $Ω^{-1} $)\n",
        "- **Ion Channels**. Pores through the membrane that allow for selective permeability of different ion types. There are 'active' and 'passive' ion channels. Active channels change their conductance as a function of, for example, membrane potential. The conductance of passive channels is constant.\n",
        "- **Voltage Clamp**. A method that creates a constant potential difference across the membrane and measures the current flowing through it.\n",
        "- **Activation Gates**. Variables that represent the proportion of channels in a certain state (open or closed).\n",
        "\n"
      ]
    },
    {
      "cell_type": "markdown",
      "metadata": {
        "id": "3aT0aRHn8eON",
        "colab_type": "text"
      },
      "source": [
        "# Learning Objectives"
      ]
    },
    {
      "cell_type": "markdown",
      "metadata": {
        "id": "eaPl2oV1088V",
        "colab_type": "text"
      },
      "source": [
        "After this project you'll be able to:\n",
        "- Explain how **passive ion channels** and membrane properties lead to the **membrane time constant**.\n",
        "- Explain what is the **driving force**.\n",
        "- Differentiate between **active** and **passive** ion channels.\n",
        "- Explain what is a **gating variable**.\n",
        "- Compute the **steady state** of **voltage gating variables** in the current clamp.\n",
        "- Explain the current flows across the cell as a function of maximal conductances and state of the gating variables.\n",
        "- Explain **conductance** in your own words and why it is different for different ion types.\n",
        "- Compute the currents entering the cell for different ion channels.\n",
        "- Assemble the different ionic currents in the HH model to produce action potentials."
      ]
    },
    {
      "cell_type": "markdown",
      "metadata": {
        "id": "509DzcGxeXcI",
        "colab_type": "text"
      },
      "source": [
        "# Pre-requisites"
      ]
    },
    {
      "cell_type": "markdown",
      "metadata": {
        "id": "0-j_Dp8zeZ_R",
        "colab_type": "text"
      },
      "source": [
        "Some suggested videos are here, but feel free to find your own. Also, if you find a video you love, you can contribute with the whole \"computing brain\" crowd via the computing brain channel!\n",
        "\n",
        "\n",
        "- Ions and electrical charge (Ohm's law) : [video](https://www.youtube.com/watch?v=G3H5lKoWPpY) or [video](https://www.youtube.com/watch?v=fGI9d0CjI8s)\n",
        "- Capacitance :  [video](https://youtu.be/f_MZNsEqyQw) or [video](https://www.youtube.com/watch?v=u-jigaMJT10)\n",
        "- Clamps (current, voltage, conductance) [video](https://www.youtube.com/watch?v=5miWDVRcUUE)\n",
        "- Basic understanding of the electrochemical gradient [video](https://www.youtube.com/watch?v=Ba02v7eoVWQ).\n",
        "  "
      ]
    },
    {
      "cell_type": "markdown",
      "metadata": {
        "id": "Vz3qG1oghAmR",
        "colab_type": "text"
      },
      "source": [
        "# Initialization Code"
      ]
    },
    {
      "cell_type": "markdown",
      "metadata": {
        "id": "hh25znGpgZNN",
        "colab_type": "text"
      },
      "source": [
        "- In the code cell below we install the simulator [Brian2](https://brian2.readthedocs.io/) and import relevant python.modules.\n",
        "- It installs and imports Brian2, the simulator we will be using.\n",
        "- **Note that you have to run this every time that colab 'disconnects' from the kernel.**\n",
        "- Documentation of brian2 can be found [here](https://brian2.readthedocs.io/en/stable/user/index.html)"
      ]
    },
    {
      "cell_type": "code",
      "metadata": {
        "id": "88Qmb5nEPYq6",
        "colab_type": "code",
        "outputId": "597e57fe-512c-4875-aa86-7c9be8946a3f",
        "colab": {
          "base_uri": "https://localhost:8080/",
          "height": 445
        }
      },
      "source": [
        "# install brian2 \n",
        "!pip install brian2\n",
        "\n",
        "# import necesary packages\n",
        "from IPython.display import display\n",
        "from brian2 import * # our simulator of choice\n",
        "import brian2.numpy_ as np # the numpy that comes bundled with it\n",
        "from ipywidgets import interact, interactive # for some neat interactions\n",
        "from IPython.display import display \n",
        "import ipywidgets as widgets\n",
        "import matplotlib.pyplot as plt # for neat plots\n",
        "import time # for time basis conversions"
      ],
      "execution_count": 0,
      "outputs": [
        {
          "output_type": "stream",
          "text": [
            "Collecting brian2\n",
            "\u001b[?25l  Downloading https://files.pythonhosted.org/packages/e6/ce/03f7807c36a4d75c67dc39d087b09e6be85bdff09825761f0f1c3d2061db/Brian2-2.3.tar.gz (1.6MB)\n",
            "\u001b[K     |████████████████████████████████| 1.6MB 2.8MB/s \n",
            "\u001b[?25hRequirement already satisfied: numpy>=1.10 in /usr/local/lib/python3.6/dist-packages (from brian2) (1.18.2)\n",
            "Requirement already satisfied: cython>=0.29 in /usr/local/lib/python3.6/dist-packages (from brian2) (0.29.16)\n",
            "Collecting sympy>=1.2\n",
            "\u001b[?25l  Downloading https://files.pythonhosted.org/packages/ce/5b/acc12e3c0d0be685601fc2b2d20ed18dc0bf461380e763afc9d0a548deb0/sympy-1.5.1-py2.py3-none-any.whl (5.6MB)\n",
            "\u001b[K     |████████████████████████████████| 5.6MB 19.5MB/s \n",
            "\u001b[?25hRequirement already satisfied: pyparsing in /usr/local/lib/python3.6/dist-packages (from brian2) (2.4.6)\n",
            "Requirement already satisfied: jinja2>=2.7 in /usr/local/lib/python3.6/dist-packages (from brian2) (2.11.1)\n",
            "Requirement already satisfied: setuptools>=24 in /usr/local/lib/python3.6/dist-packages (from brian2) (46.0.0)\n",
            "Requirement already satisfied: future in /usr/local/lib/python3.6/dist-packages (from brian2) (0.16.0)\n",
            "Requirement already satisfied: mpmath>=0.19 in /usr/local/lib/python3.6/dist-packages (from sympy>=1.2->brian2) (1.1.0)\n",
            "Requirement already satisfied: MarkupSafe>=0.23 in /usr/local/lib/python3.6/dist-packages (from jinja2>=2.7->brian2) (1.1.1)\n",
            "Building wheels for collected packages: brian2\n",
            "  Building wheel for brian2 (setup.py) ... \u001b[?25l\u001b[?25hdone\n",
            "  Created wheel for brian2: filename=Brian2-2.3-cp36-cp36m-linux_x86_64.whl size=1283410 sha256=44106e34a566ea56911eebf0e94f5a6af6b4932f2b29548160082a1b72f98faa\n",
            "  Stored in directory: /root/.cache/pip/wheels/d0/53/ca/54953abc5f741ebd69a87da3b87f3630c5073d26d2d4426cc9\n",
            "Successfully built brian2\n",
            "Installing collected packages: sympy, brian2\n",
            "  Found existing installation: sympy 1.1.1\n",
            "    Uninstalling sympy-1.1.1:\n",
            "      Successfully uninstalled sympy-1.1.1\n",
            "Successfully installed brian2-2.3 sympy-1.5.1\n"
          ],
          "name": "stdout"
        }
      ]
    },
    {
      "cell_type": "markdown",
      "metadata": {
        "id": "k-DV4AGMZbMA",
        "colab_type": "text"
      },
      "source": [
        "# The Passive Membrane"
      ]
    },
    {
      "cell_type": "markdown",
      "metadata": {
        "id": "ZBuIHB-3mpV3",
        "colab_type": "text"
      },
      "source": [
        "## Differences of Potential Due to Differences in Ion Concentration\n",
        "\n",
        "As we learned in the previous project, fatty membrane separating the outside and the inside. Insert some  negatively charged ions and molecules inside (such as Chloride or other anionic proteins). If this compartment is placed in a more positively charged environment, there's a negative difference of potential across the membrane.\n",
        "\n",
        "**The membrane is not perfectly permeable**. There are ion channels in the membrane through which ions can cross. Nature likes an equilibrium, and in principle ions would flow out of the membrane until charge balance is achieved.  However, some ions are too large to get across the membrane, thus they get stuck inside, keeping that charge in the cell. Many proteins inside the cell fit that description, and that makes it so that the inside of the cell is negatively charged. How negative? That's a function of how much charge per volume (charge density) there is. The thing to remember is that even if all channels in the membrane are open, the cell would still remain at a negative potential, the so called 'resting potential', also known as $V_{rest}$.\n",
        "\n",
        "The smaller the ion, the more charge can be packed in a volume. Also, in general there are more ions than ion channels, and so it takes time until these ions can find a channel to leak through, until it comes back to the resting membrane potential.\n",
        "\n",
        "We can calculate this rate of decay via the **passive properties** of the membrane, the **capacitance** and the **leak conductance**.\n",
        "\n",
        "\n"
      ]
    },
    {
      "cell_type": "markdown",
      "metadata": {
        "id": "FGny2Rr0XA1Z",
        "colab_type": "text"
      },
      "source": [
        "### The Driving Force\n"
      ]
    },
    {
      "cell_type": "markdown",
      "metadata": {
        "id": "mryNTXlWmuB6",
        "colab_type": "text"
      },
      "source": [
        "The same way as a ball on a hill has potential energy proportional to the height of the hill, the membrane that is taken away from $V_{rest}$ has a potential called the **driving force**.\n",
        "\n",
        "\n",
        "---\n",
        "\n",
        "\n",
        "$$V - V_{rest}$$\n",
        "\n",
        "\n",
        "---\n",
        "\n",
        "\n",
        "The farther from $V_{rest}$, the higher the potential, and the willingness of the potential to return to its equilibrium state.\n",
        "\n",
        "Two parameters determine the rate with which the membrane returns to the resting potential, the **membrane capacitance** ($C_{membrane}$, measured in Fahrads) and the **leak resistance** ($R_{leak}$, measured in Siemens, the reciprocal of Ohm). While the leak resistance relates to the number of pores for ions to cross (only those that are permeable), capacitance is equivalent to the maximum charge that the cell membrane can store and is relatively constant for most cells."
      ]
    },
    {
      "cell_type": "markdown",
      "metadata": {
        "id": "iJO_7MnOZszM",
        "colab_type": "text"
      },
      "source": [
        "### Charge Loss Due to Leak Conductance and Capacitance\n",
        "\n"
      ]
    },
    {
      "cell_type": "markdown",
      "metadata": {
        "id": "7YlrRuxzm8zE",
        "colab_type": "text"
      },
      "source": [
        "  When ions cross the membrane through pores (ion channels) we speak of a **current leak**. The **leak conductance** is a measure of how permeable the membrane is to ions, or, in other words, the number of **passive ion channels** and how many ions can cross over time (recall that charge flow is current).\n",
        " \n",
        "The membrane potential change per unit time is represented by ($\\frac{dv}{dt}$), or equivalently $\\dot{V}$, and is an ordinary differential equation. In the absence of any other influences, $V$ tends to $V_{rest}$ (in millivolts (mV)), with a rate determined by the leak conductance. A **conductance** is a measure of the number of leak channels available for the crossing of ions. \n",
        "\n",
        "---\n",
        "\n",
        "\n",
        "$$ \\dot V = \\frac{1}{R_{leak}}(V-V_{rest}) $$\n",
        "\n",
        "is the same as \n",
        "\n",
        "$$ \\Leftrightarrow \\dot{V} =  g_{leak}(V-V_{rest})$$\n",
        "\n",
        "\n",
        "---\n",
        "\n",
        "Through passive ion channels, the charge leaks out of the neuron until the electrochemical equilibrium, i.e., the resting potential is reached. That is, the driving force gets smaller and smaller until zero. The conductance determines the rate of the return to equilbrium (resting potential).\n"
      ]
    },
    {
      "cell_type": "markdown",
      "metadata": {
        "id": "1KKBWPm08jPG",
        "colab_type": "text"
      },
      "source": [
        "Furthermore, cell membranes have [**capacitance**](https://www.youtube.com/watch?v=G3H5lKoWPpY), which is a measurement of how much charge it can store (review the video on capacitance). The thicker a membrane, the higher the membrane capacitance $C_m$. **The capacitance dampens a current flow**, reducing the rate of change of the membrane potential. The lower the capacitance, the faster the potential difference comes to the resting potential. \n",
        " \n",
        "---\n",
        "\n",
        "$$\\dot{V} =  \\frac{g_{leak}(V-V_{rest})}{C_{m} }$$\n",
        "\n",
        "\n",
        "or by using leak resistance instead of conductance,\n",
        "\n",
        "\n",
        "\n",
        "$$\\dot{V} =  \\frac{(V-V_{rest})}{R_{leak} C_{m} }$$\n",
        "\n",
        "---\n",
        "\n",
        "\n",
        "The denominator of the second equation $R_{leak}C_m$ is often substituted by $\\tau_m$, the so called **time constant** for reasons that will become clear below.\n"
      ]
    },
    {
      "cell_type": "markdown",
      "metadata": {
        "id": "AcEZHGCicWjD",
        "colab_type": "text"
      },
      "source": [
        "#### Simulation: Voltage Clamp of the Passive Membrane (Interactive)\n",
        "\n",
        "How fast do we get to the resting membrane potential if we only have passive elements in the membrane (leak ion channels and capacitance)?\n",
        "\n",
        "To see how capacitance and resistance influence the passive decay time of the membrane potential back to resting potential, we create a mini simulator where we can give a voltage step ('clamp') and see how changes of $C_m$ and $g_{leak}$ change the slope of the decay. "
      ]
    },
    {
      "cell_type": "code",
      "metadata": {
        "id": "v3yKjghdZfGX",
        "colab_type": "code",
        "outputId": "b6dca909-e8bc-4308-f3a9-cab54063a844",
        "colab": {
          "base_uri": "https://localhost:8080/",
          "height": 395
        }
      },
      "source": [
        "start_scope() # don't worry about this line for now (it informs brian2 to reset workspace variables)\n",
        "\n",
        "def PassiveMembrane(C_m, g_leak, v_init):\n",
        "    # this is a function that computes the membrane potential over time \n",
        "    # for a given capacitance and leak conductance\n",
        "\n",
        "    E_leak = -70.6 * mV     # We define the reversal potential as a constant (typical value for HH)\n",
        "    dtt = 0.025*msecond     # simulation parameters (integration time)\n",
        "    g_leak = g_leak* nS     # attribute unit [nS] to function argument g_leak\n",
        "    Cm = C_m * pF           # attribute unit [pF] to function argument C_m\n",
        "\n",
        "    # Here we define our model of the passive membrane in Brian2\n",
        "    # note 1: for Brian, the equations are defined as a string, \n",
        "    #         that's why you see the equation surrounded by ''' \n",
        "    # note 2: the unit of the variable is mandatory and specified\n",
        "    #          in the string.\n",
        "\n",
        "    eqs ='''\n",
        "    dv/dt = g_leak *(E_leak - v) /Cm: volt\n",
        "    '''\n",
        "    \n",
        "    # with Brian2 we create a neuron group G with 1 neuron and equations defined above\n",
        "    G = NeuronGroup(1,eqs, 'euler') \n",
        "    \n",
        "    # we introduce a StateMonitor in G to record 'v'\n",
        "    M = StateMonitor(G, 'v', record=0)\n",
        "    \n",
        "    # we set an initial value for membrane potential (G.v) \n",
        "    G.v = E_leak # initial condition\n",
        "    \n",
        "    #we run the model for 50ms without input\n",
        "    run(50*ms)\n",
        "    \n",
        "    # VOLTAGE CLAMP:\n",
        "    # here we set the initial voltage value (we 'clamp the voltage to a constant')\n",
        "    G.v = v_init*mV # injected current: note that the unit is mandatory!\n",
        "    \n",
        "    # and let the membrane potential 'relax', that is, \n",
        "    # we run 50ms more of simulation, to see the difference in decay time\n",
        "    # due to the change of voltage.\n",
        "    run(50*ms)\n",
        "\n",
        "    # finally, the function Mem_func is able to plot its output.\n",
        "    axes = plt.gca()\n",
        " \n",
        "    plt.plot(M.t/ms, M.v[0]/mV)\n",
        "    plt.xlabel('Time (ms)')\n",
        "    plt.ylabel('V (mV)')\n",
        "\n",
        "    return E_leak\n",
        "\n",
        "# change the values and see what happens! \n",
        "w = interactive(PassiveMembrane, g_leak=(10.0,500.0), C_m=(10.0,500.0), v_init=(-90, 0));\n",
        "\n",
        "#w.children\n",
        "display(w)"
      ],
      "execution_count": 0,
      "outputs": [
        {
          "output_type": "error",
          "ename": "MagicError",
          "evalue": "ignored",
          "traceback": [
            "\u001b[0;31m---------------------------------------------------------------------------\u001b[0m",
            "\u001b[0;31mMagicError\u001b[0m                                Traceback (most recent call last)",
            "\u001b[0;32m/usr/local/lib/python3.6/dist-packages/ipywidgets/widgets/interaction.py\u001b[0m in \u001b[0;36mupdate\u001b[0;34m(self, *args)\u001b[0m\n\u001b[1;32m    254\u001b[0m                     \u001b[0mvalue\u001b[0m \u001b[0;34m=\u001b[0m \u001b[0mwidget\u001b[0m\u001b[0;34m.\u001b[0m\u001b[0mget_interact_value\u001b[0m\u001b[0;34m(\u001b[0m\u001b[0;34m)\u001b[0m\u001b[0;34m\u001b[0m\u001b[0;34m\u001b[0m\u001b[0m\n\u001b[1;32m    255\u001b[0m                     \u001b[0mself\u001b[0m\u001b[0;34m.\u001b[0m\u001b[0mkwargs\u001b[0m\u001b[0;34m[\u001b[0m\u001b[0mwidget\u001b[0m\u001b[0;34m.\u001b[0m\u001b[0m_kwarg\u001b[0m\u001b[0;34m]\u001b[0m \u001b[0;34m=\u001b[0m \u001b[0mvalue\u001b[0m\u001b[0;34m\u001b[0m\u001b[0;34m\u001b[0m\u001b[0m\n\u001b[0;32m--> 256\u001b[0;31m                 \u001b[0mself\u001b[0m\u001b[0;34m.\u001b[0m\u001b[0mresult\u001b[0m \u001b[0;34m=\u001b[0m \u001b[0mself\u001b[0m\u001b[0;34m.\u001b[0m\u001b[0mf\u001b[0m\u001b[0;34m(\u001b[0m\u001b[0;34m**\u001b[0m\u001b[0mself\u001b[0m\u001b[0;34m.\u001b[0m\u001b[0mkwargs\u001b[0m\u001b[0;34m)\u001b[0m\u001b[0;34m\u001b[0m\u001b[0;34m\u001b[0m\u001b[0m\n\u001b[0m\u001b[1;32m    257\u001b[0m                 \u001b[0mshow_inline_matplotlib_plots\u001b[0m\u001b[0;34m(\u001b[0m\u001b[0;34m)\u001b[0m\u001b[0;34m\u001b[0m\u001b[0;34m\u001b[0m\u001b[0m\n\u001b[1;32m    258\u001b[0m                 \u001b[0;32mif\u001b[0m \u001b[0mself\u001b[0m\u001b[0;34m.\u001b[0m\u001b[0mauto_display\u001b[0m \u001b[0;32mand\u001b[0m \u001b[0mself\u001b[0m\u001b[0;34m.\u001b[0m\u001b[0mresult\u001b[0m \u001b[0;32mis\u001b[0m \u001b[0;32mnot\u001b[0m \u001b[0;32mNone\u001b[0m\u001b[0;34m:\u001b[0m\u001b[0;34m\u001b[0m\u001b[0;34m\u001b[0m\u001b[0m\n",
            "\u001b[0;32m<ipython-input-4-600f1f81f8dd>\u001b[0m in \u001b[0;36mPassiveMembrane\u001b[0;34m(C_m, g_leak, v_init)\u001b[0m\n\u001b[1;32m     30\u001b[0m \u001b[0;34m\u001b[0m\u001b[0m\n\u001b[1;32m     31\u001b[0m     \u001b[0;31m#we run the model for 50ms without input\u001b[0m\u001b[0;34m\u001b[0m\u001b[0;34m\u001b[0m\u001b[0;34m\u001b[0m\u001b[0m\n\u001b[0;32m---> 32\u001b[0;31m     \u001b[0mrun\u001b[0m\u001b[0;34m(\u001b[0m\u001b[0;36m50\u001b[0m\u001b[0;34m*\u001b[0m\u001b[0mms\u001b[0m\u001b[0;34m)\u001b[0m\u001b[0;34m\u001b[0m\u001b[0;34m\u001b[0m\u001b[0m\n\u001b[0m\u001b[1;32m     33\u001b[0m \u001b[0;34m\u001b[0m\u001b[0m\n\u001b[1;32m     34\u001b[0m     \u001b[0;31m# VOLTAGE CLAMP:\u001b[0m\u001b[0;34m\u001b[0m\u001b[0;34m\u001b[0m\u001b[0;34m\u001b[0m\u001b[0m\n",
            "\u001b[0;32m/usr/local/lib/python3.6/dist-packages/brian2/units/fundamentalunits.py\u001b[0m in \u001b[0;36mnew_f\u001b[0;34m(*args, **kwds)\u001b[0m\n\u001b[1;32m   2390\u001b[0m                                                      get_dimensions(newkeyset[k]))\n\u001b[1;32m   2391\u001b[0m \u001b[0;34m\u001b[0m\u001b[0m\n\u001b[0;32m-> 2392\u001b[0;31m             \u001b[0mresult\u001b[0m \u001b[0;34m=\u001b[0m \u001b[0mf\u001b[0m\u001b[0;34m(\u001b[0m\u001b[0;34m*\u001b[0m\u001b[0margs\u001b[0m\u001b[0;34m,\u001b[0m \u001b[0;34m**\u001b[0m\u001b[0mkwds\u001b[0m\u001b[0;34m)\u001b[0m\u001b[0;34m\u001b[0m\u001b[0;34m\u001b[0m\u001b[0m\n\u001b[0m\u001b[1;32m   2393\u001b[0m             \u001b[0;32mif\u001b[0m \u001b[0;34m'result'\u001b[0m \u001b[0;32min\u001b[0m \u001b[0mau\u001b[0m\u001b[0;34m:\u001b[0m\u001b[0;34m\u001b[0m\u001b[0;34m\u001b[0m\u001b[0m\n\u001b[1;32m   2394\u001b[0m                 \u001b[0;32mif\u001b[0m \u001b[0mau\u001b[0m\u001b[0;34m[\u001b[0m\u001b[0;34m'result'\u001b[0m\u001b[0;34m]\u001b[0m \u001b[0;34m==\u001b[0m \u001b[0mbool\u001b[0m\u001b[0;34m:\u001b[0m\u001b[0;34m\u001b[0m\u001b[0;34m\u001b[0m\u001b[0m\n",
            "\u001b[0;32m/usr/local/lib/python3.6/dist-packages/brian2/core/magic.py\u001b[0m in \u001b[0;36mrun\u001b[0;34m(duration, report, report_period, namespace, profile, level)\u001b[0m\n\u001b[1;32m    372\u001b[0m     '''\n\u001b[1;32m    373\u001b[0m     return magic_network.run(duration, report=report, report_period=report_period,\n\u001b[0;32m--> 374\u001b[0;31m                              namespace=namespace, profile=profile, level=2+level)\n\u001b[0m\u001b[1;32m    375\u001b[0m \u001b[0mrun\u001b[0m\u001b[0;34m.\u001b[0m\u001b[0m__module__\u001b[0m \u001b[0;34m=\u001b[0m \u001b[0m__name__\u001b[0m\u001b[0;34m\u001b[0m\u001b[0;34m\u001b[0m\u001b[0m\n\u001b[1;32m    376\u001b[0m \u001b[0;34m\u001b[0m\u001b[0m\n",
            "\u001b[0;32m/usr/local/lib/python3.6/dist-packages/brian2/core/magic.py\u001b[0m in \u001b[0;36mrun\u001b[0;34m(self, duration, report, report_period, namespace, profile, level)\u001b[0m\n\u001b[1;32m    228\u001b[0m     def run(self, duration, report=None, report_period=10*second,\n\u001b[1;32m    229\u001b[0m             namespace=None, profile=False, level=0):\n\u001b[0;32m--> 230\u001b[0;31m         \u001b[0mself\u001b[0m\u001b[0;34m.\u001b[0m\u001b[0m_update_magic_objects\u001b[0m\u001b[0;34m(\u001b[0m\u001b[0mlevel\u001b[0m\u001b[0;34m=\u001b[0m\u001b[0mlevel\u001b[0m\u001b[0;34m+\u001b[0m\u001b[0;36m1\u001b[0m\u001b[0;34m)\u001b[0m\u001b[0;34m\u001b[0m\u001b[0;34m\u001b[0m\u001b[0m\n\u001b[0m\u001b[1;32m    231\u001b[0m         Network.run(self, duration, report=report, report_period=report_period,\n\u001b[1;32m    232\u001b[0m                     namespace=namespace, profile=profile, level=level+1)\n",
            "\u001b[0;32m/usr/local/lib/python3.6/dist-packages/brian2/core/magic.py\u001b[0m in \u001b[0;36m_update_magic_objects\u001b[0;34m(self, level)\u001b[0m\n\u001b[1;32m    182\u001b[0m \u001b[0;34m\u001b[0m\u001b[0m\n\u001b[1;32m    183\u001b[0m         \u001b[0;32mif\u001b[0m \u001b[0msome_known\u001b[0m \u001b[0;32mand\u001b[0m \u001b[0msome_new\u001b[0m\u001b[0;34m:\u001b[0m\u001b[0;34m\u001b[0m\u001b[0;34m\u001b[0m\u001b[0m\n\u001b[0;32m--> 184\u001b[0;31m             raise MagicError(('The magic network contains a mix of objects '\n\u001b[0m\u001b[1;32m    185\u001b[0m                               \u001b[0;34m'that has been run before and new objects, Brian '\u001b[0m\u001b[0;34m\u001b[0m\u001b[0;34m\u001b[0m\u001b[0m\n\u001b[1;32m    186\u001b[0m                               \u001b[0;34m'does not know whether you want to start a new '\u001b[0m\u001b[0;34m\u001b[0m\u001b[0;34m\u001b[0m\u001b[0m\n",
            "\u001b[0;31mMagicError\u001b[0m: The magic network contains a mix of objects that has been run before and new objects, Brian does not know whether you want to start a new simulation or continue an old one. Consider explicitly creating a Network object. Also note that you can find out which objects will be included in a magic network with the collect() function."
          ]
        }
      ]
    },
    {
      "cell_type": "markdown",
      "metadata": {
        "id": "DHYeM4GDU3XC",
        "colab_type": "text"
      },
      "source": [
        "#### Questions:\n",
        "1. What is the **time scale** of the decay due to passive properties of the membrane? \n",
        "\n",
        "2. What is the influence of capacitance on decay time to resting potential?\n",
        "\n",
        "3. What is the relationship between leak conductance and capacitance on decay dynamics?\n"
      ]
    },
    {
      "cell_type": "markdown",
      "metadata": {
        "id": "HkJrdvXaMn7h",
        "colab_type": "text"
      },
      "source": [
        "#### Answers:\n",
        "1. Judging by the time for the voltage to decay to baseline in the plots above, the time scale of the decay is about 10's of milliseconds.\n",
        "\n",
        "2. The larger the capacitance, the slower the decay. This makes sense, as capacitance is a measure of 'charge storage capacity'.\n",
        "\n",
        "3. They are reciprocal of each other.\n"
      ]
    },
    {
      "cell_type": "markdown",
      "metadata": {
        "id": "Sm0WcCxDfYX3",
        "colab_type": "text"
      },
      "source": [
        "# The Excitable Membrane"
      ]
    },
    {
      "cell_type": "markdown",
      "metadata": {
        "id": "okOtlv5znlu_",
        "colab_type": "text"
      },
      "source": [
        "### Active Ion Channels\n",
        "\n",
        "**Active Channels are those where ion permeability changes as a function of something, usually voltage** or some chemical. In contrast, passive channels such as the **leak** have constant conductance. Active essentially means that the state of the channels changes as a function of some other variable, such as the membrane potential.\n",
        "\n",
        "### Ion Selectivity \n",
        "Channels can be more or less **selective** for particular ions, and we generally name the current that is due to a certain ion channel with the name of it's preferred ion. For example, Sodium ions go through the **Sodium channel** and become the **Sodium Current**.\n",
        "\n",
        "Other channel types exist that are less selective, and have currents  due to multiple kinds of ions, with prominent examples being the Sodium/Potassium pump and the **NMDA** receptor, which exchanges both Calcium and Magnesium.\n",
        "\n",
        "### Currents\n",
        "\n",
        "The current that crosses the membrane is a function of the number of permeable ion channels available at the membrane at a given time. For example, **the Sodium current ($I_{Na}$) is the total amount of current that is due to the flow of Sodium ions through the sodium channels**. The current is determined by the multiplication between the **maxiumum conductance**, the **gating variables** representing the proportion of open ($m$) and active ($h$) chanels and the **driving force**.\n",
        "\n",
        "\n",
        "The following paragraphs define **gating variables**, their effect on permeability and how they change over time, i.e., their dynamics."
      ]
    },
    {
      "cell_type": "markdown",
      "metadata": {
        "id": "mYxdMOQ_kD49",
        "colab_type": "text"
      },
      "source": [
        "### Gating Variables\n",
        "\n"
      ]
    },
    {
      "cell_type": "markdown",
      "metadata": {
        "id": "WDLD1AfHkpPA",
        "colab_type": "text"
      },
      "source": [
        "Installed in the membrane are large numbers of active ion channels (varying from tens to tens of thousands). Many ion channels are rather selective. Ion channels can be open or closed state. The ion channels are statistically independent of each other. \n",
        "\n",
        "From these assumptions, we can represent the state of active ion channels via **gating variables, which represent the proportion of channels that are open or closed** (or sometimes 'activated and inactivated'). As they are a **proportion** of open channels of all available channels, they take values from 0 (no channels opened) to 1 (all channels opened).\n",
        "\n",
        "(If we have 100,000 channels, and 80,000 are currently open, then gating variable $x$ has value 0.8, that is 80% of the channels are open).\n",
        "\n",
        "Each channel opens and closes probabilistically and independently ([see explanation on [single channel patch clamp](our video). The probability of opening and closing is a function of the context, which could be, for example, the momentary membrane potential of the cell. When there are large numbers of channels, this probability of the single channel can be taken as the proportion of channels open. For example, for a given membrane potential $V$, the **proportion of  channels in an open state** is given by a function of activation gate $m_{\\infty}$ (a **gating variable**):\n",
        "\n",
        "<img src=\"https://i.postimg.cc/h4TDpRN2/m-inf.png\" width=\"350x\">\n",
        "\n",
        "In this figure we have the experimentally measured proportion of open channels, i.e., the *steady state* of the **gating variable** (the error bars represent the outcoume of multiple experiments)."
      ]
    },
    {
      "cell_type": "markdown",
      "metadata": {
        "id": "tCko7TGRbxoq",
        "colab_type": "text"
      },
      "source": [
        "#### Comprehension Questions:\n",
        "\n",
        "1. Analyze the graph above and determine what is the potential at which all channels are closed?\n",
        "1. What is the difference between an active and a passive ion channel?\n",
        "1. What is a gating variable?\n",
        "1. What is selectivity?"
      ]
    },
    {
      "cell_type": "markdown",
      "metadata": {
        "id": "XrgFWFOsWoiG",
        "colab_type": "text"
      },
      "source": [
        "### Activation and Inactivation Gates\n",
        "\n"
      ]
    },
    {
      "cell_type": "markdown",
      "metadata": {
        "id": "qXtr1Iy6o3N9",
        "colab_type": "text"
      },
      "source": [
        "Note that there can be more than one gating variable per channel type, depending on the mechanisms of the ion channel. For example, the Sodium ion channel has two gates, the **activation gate** $m$ and the **inactivation gate** $h$. \n",
        "\n",
        "The flow of sodium through all channels (permeability)  is dependent on both these gating variables. As m and h represent proportion, they can also be thought of as probabilities. Hence, the probability of an ion channel being permeable is their multiplication.\n",
        "\n",
        "----\n",
        "\n",
        "$$p = m^a h^b$$\n",
        "\n",
        "----\n",
        "\n",
        "The exponents $a$ and $b$ are also related to the mechanical action of the ion channel, essentially expressing the number of  activation gates (a) and inactivation gates (b) (for a more in-depth explanation consult chapter 2 of Dynamical Systems in neuroscience, or Aaron)."
      ]
    },
    {
      "cell_type": "markdown",
      "metadata": {
        "id": "2XziB8_HXz6i",
        "colab_type": "text"
      },
      "source": [
        "### Sample Code: Plotting a function with python"
      ]
    },
    {
      "cell_type": "markdown",
      "metadata": {
        "id": "sqVTvIy_1I_K",
        "colab_type": "text"
      },
      "source": [
        "An arbitrary **activation function** $x$ takes from 0 to 1 as a function of V. It is commonly represented by a sigmoid function [$x_{inf}$, a ](https://en.wikipedia.org/wiki/Sigmoid_function) such as the one below. \n",
        "\n",
        "---\n",
        "\n",
        "$$x_{\\infty}(V) = \\frac{1}{1+e^{(V_{1/2}-V)/k}}$$\n",
        "\n",
        "---\n",
        "This type of function is often used to model the **steady state** (represented by the $\\infty$ subscript) of the activation gate, because it is symmetrical, rises smoothly and can be parameterized to match experimental data.\n",
        "\n",
        "The function takes two parameters, $V_{1/2}$ and $k$ ($V_{1/2}$ defines the position of the midpoint of the sigmoid, and k defines the slope, see figure). These parameters are obtained experimentally via patch clamp experiments. For example, the activation variable $m_{\\infty}$ of the squid axon, we have that $V_{1/2} = -40, k = 15$.\n",
        "\n",
        "\n",
        "The parameters determine the shape of the function, as such:\n",
        "\n",
        "[![boltzmann-function.png](https://i.postimg.cc/Tw2b5MsG/boltzmann-function.png)](https://postimg.cc/R38h289b)\n",
        "\n",
        "The python code below defines and plots a mathematical function, in this case, the Boltzmann function.\n",
        "\n"
      ]
    },
    {
      "cell_type": "code",
      "metadata": {
        "id": "8FuejXdS1Q4x",
        "colab_type": "code",
        "outputId": "c51b43e3-86b9-4274-a659-6383bc2d9b52",
        "colab": {
          "base_uri": "https://localhost:8080/",
          "height": 298
        }
      },
      "source": [
        "# define a function m_inf that returns the\n",
        "# steady state of m gate for any value of the potential V.\n",
        "\n",
        "def sigmoid(v_at_half, k, V):\n",
        "    \n",
        "    #np.exp means we are using the function exp from the package numpy\n",
        "    return (1./(1.+np.exp((v_at_half-V)/k)))\n",
        "\n",
        "# define a voltage range for calculating the function\n",
        "v = np.arange(-100.0, 0.0, 1.) # from -100 to 0mV at steps of 1mV\n",
        "\n",
        "m_inf = sigmoid(-40,15, v)\n",
        "\n",
        "plt.figure(1) # create a figure\n",
        "\n",
        "plt.plot(v, m_inf) # plot the range x vs the function tau(x) domain \n",
        "plt.xlabel(r'$mV$') # add labels to the plot\n",
        "plt.ylabel(r'$m_{\\infty}(V)$') "
      ],
      "execution_count": 0,
      "outputs": [
        {
          "output_type": "execute_result",
          "data": {
            "text/plain": [
              "Text(0, 0.5, '$m_{\\\\infty}(V)$')"
            ]
          },
          "metadata": {
            "tags": []
          },
          "execution_count": 7
        },
        {
          "output_type": "display_data",
          "data": {
            "image/png": "[encoded data removed]",
            "text/plain": [
              "<Figure size 432x288 with 1 Axes>"
            ]
          },
          "metadata": {
            "tags": []
          }
        }
      ]
    },
    {
      "cell_type": "markdown",
      "metadata": {
        "id": "FvWE2n1KWnGM",
        "colab_type": "text"
      },
      "source": [
        "##### Comprehension Question:\n",
        "\n",
        "- Do  you have an intuition why a sigmoid function is used to represent gating variables?)\n"
      ]
    },
    {
      "cell_type": "markdown",
      "metadata": {
        "id": "ZOD6theSV4tl",
        "colab_type": "text"
      },
      "source": [
        "### Activation Time Constants"
      ]
    },
    {
      "cell_type": "markdown",
      "metadata": {
        "id": "JYlMJ9tZ1Rb1",
        "colab_type": "text"
      },
      "source": [
        "When the membrane potential changes, the opening and closing of channels **is not instantaneous**. The gating variable tends to the steady state that is dependent on  voltage (see plot under gating variables) with a rate proportional to $\\tau_x$, which is also voltage dependent. In other words, to determine this rate of change (from open to close or vice-versa) we can measure $\\tau_x$. \n",
        "Note that $\\tau_x$ is the time constant for the rate of change of gating variables and is different from the membrane time constant.\n",
        "\n",
        "![tau-m.png](https://i.postimg.cc/FFZq9PS9/tau-m.png)\n",
        "\n",
        "The function that determines the rate of change of m is given by\n",
        "\n",
        "---\n",
        "\n",
        "$\\tau_x(V) = C_{base} + C_{amp}  e^\\frac{-(V_{max}-V)^2}{\\sigma^2}$\n",
        "\n",
        "---\n"
      ]
    },
    {
      "cell_type": "markdown",
      "metadata": {
        "id": "7XRTzA4N_J1W",
        "colab_type": "text"
      },
      "source": [
        "#### Code Exercise: Plot the function for $\\tau_m(V)$\n",
        "\n",
        "Using the sample code above, plot the function defined above.\n",
        "\n",
        "Where $C_{base}, C_{amp}, V_{max}, \\sigma$ are given parameters (see below).\n",
        "\n",
        "[![gaussian.png](https://i.postimg.cc/XJFf9SKz/gaussian.png)](https://postimg.cc/JDrHWF2N)"
      ]
    },
    {
      "cell_type": "code",
      "metadata": {
        "id": "IQz8yjjP__dg",
        "colab_type": "code",
        "outputId": "33e473ed-cbfb-472c-8f9d-99c7ea094f4f",
        "colab": {
          "base_uri": "https://localhost:8080/",
          "height": 296
        }
      },
      "source": [
        "# define a function tau that returns tau for any V and given parameters\n",
        "# \n",
        "# use C_base = 1.1, C_amp = 4.7, V_max = -79, sig = 50\n",
        "\n",
        "# taum  =  .46*ms +.04*exp(-(-38*mV-v)/( 30*mV)**@) *ms : second\n",
        "# tauh  =  7.4*ms +1.2*exp(-(-67*mV-v)/( 20*mV)**2) *ms : second\n",
        "\n",
        "def tau(V, C_base, C_amp, V_max, sig):    \n",
        "    return C_base +C_amp*np.exp(-(V_max-v)**2/sig**2)\n",
        "    ### Return value of funciton\n",
        "     \n",
        "\n",
        "# define a voltage range for calculating the function\n",
        "v = np.arange(-100.0, 100.0, 1) # from -100 to 0mV at steps of 1mV\n",
        "\n",
        "plt.figure(1) # create a figure\n",
        "plt.plot(v, tau(v, .46, .04, -38., 30.)) # plot the range x vs the function tau(x) domain \n",
        "# plt.plot(v, tau(v, 7.4, 1.2, -67, 20.)) # plot the range x vs the function tau(x) domain \n",
        "plt.xlabel('mV') # add labels to the plot\n",
        "plt.ylabel('tau_m (ms)')"
      ],
      "execution_count": 0,
      "outputs": [
        {
          "output_type": "execute_result",
          "data": {
            "text/plain": [
              "Text(0, 0.5, 'tau_m (ms)')"
            ]
          },
          "metadata": {
            "tags": []
          },
          "execution_count": 10
        },
        {
          "output_type": "display_data",
          "data": {
            "image/png": "[encoded data removed]",
            "text/plain": [
              "<Figure size 432x288 with 1 Axes>"
            ]
          },
          "metadata": {
            "tags": []
          }
        }
      ]
    },
    {
      "cell_type": "markdown",
      "metadata": {
        "id": "VTijklfBDwWx",
        "colab_type": "text"
      },
      "source": [
        "### Maximal conductance ($\\bar{g}$)\n"
      ]
    },
    {
      "cell_type": "markdown",
      "metadata": {
        "id": "HipY8FZreHhh",
        "colab_type": "text"
      },
      "source": [
        "While the gating variable stands for the proportion of channels open, the maximum conductance $\\bar{g}$ represents the total number of channels available for a certain ionic current. \n",
        "\n",
        "The leak resistance is a passive conductance: the leak channels have a constant permeability, which is directly a function of how many channels are available. \n",
        "\n",
        "Active ion channels have a contribution to the membrane potential, which is dependent on the equilibrium potential for the ions for which the channel is selective. For the sodium ion channel for example, we talk about a driving force of sodium.\n",
        "\n"
      ]
    },
    {
      "cell_type": "markdown",
      "metadata": {
        "id": "Acm24dTE3Azl",
        "colab_type": "text"
      },
      "source": [
        "### Permeability of the Sodium Ion Channel "
      ]
    },
    {
      "cell_type": "markdown",
      "metadata": {
        "id": "8fscJsLleBfZ",
        "colab_type": "text"
      },
      "source": [
        "Now we can write the  conductance of sodium ion as a function of its activation and inactivation gates m and h:\n",
        "\n",
        "$$\n",
        "g_{Na}=\\bar{g}_{Na}m^3h \n",
        "$$\n",
        "\n",
        "Where $\\bar{g}_Na$ is the maxiumum conductance, $m$ is an activation gate, and $h$ is an inactivation gate. Essentially, if all channels are open $(m=1)$ and de-inactivated $(h=1)$, we have that the conductance is maximal.\n",
        "\n",
        "Any voltage-gated ion channel can be formalized in this way (like potassium for example). Where $m$ and $h$ are raised to powers $a$ and $b$ respectively. Thus, conductances are different for each ion type.\n",
        "\n",
        "$$\n",
        "g_i = \\bar{g_i} m^a h^b \n",
        "$$\n",
        "\n",
        "\n",
        "The letter *m* is the probability of the activation gate to be open and *h* the probability of the inactivation gate to be open. Their powers $a=3$ and $b=1$, respectively are the number of (in)activation gates in the Sodium channel. This figure represents the situation:\n",
        "\n",
        "\n",
        "\n",
        "[![sodium-channel.png](https://i.postimg.cc/Gh7HXSR9/sodium-channel.png)](https://postimg.cc/cr3xHhrN)\n",
        "\n",
        "\n"
      ]
    },
    {
      "cell_type": "markdown",
      "metadata": {
        "colab_type": "text",
        "id": "NRRSO6e5u--8"
      },
      "source": [
        "#### Comprehension Question:\n",
        "- What is the difference between the membrane time constant and the time constant for the ion channel gating variables?\n",
        "- How does inactivated channels differ from closed channels? \n"
      ]
    },
    {
      "cell_type": "markdown",
      "metadata": {
        "id": "s0ndCk70kZCd",
        "colab_type": "text"
      },
      "source": [
        "### Dynamics of Sodium gating variables"
      ]
    },
    {
      "cell_type": "markdown",
      "metadata": {
        "id": "bDQ_hIwCkexz",
        "colab_type": "text"
      },
      "source": [
        "Gating variables in general take values from 0 (impermeable) to 1 (permeable). Changes in the membrane potential lead to changes in the proportion of channels open or inactivated. \n",
        "\n",
        "\n",
        "- partially activated $(0<m<1)$\n",
        "- completely activated $(m=1)$\n",
        "- deactivated $(m=0)$\n",
        "- inactivated $(h=0)$\n",
        "- deinactivated$(h=1)$\n",
        "\n",
        "The change in state (for m or h) is given by a differential equation that is a function of $V$. Note that it is very similar to the one for the dynamics of the membrane potential of passive membranes.\n",
        "\n",
        "---\n",
        "\n",
        "$$\n",
        "\\dot m = \\frac{m_\\infty(V) - m}{\\tau_m(V)}\n",
        "$$\n",
        "\n",
        "---\n",
        "\n",
        "where $m_{\\infty}$ is the steady state  activation or inactivation (the equilibrium) and $\\tau(V)$ is the activation or inactivation time constant (a measure of the time to reach a steady state, or the speed). \n",
        "\n",
        "Think of $m_\\infty$ as the value that is inevitably obtained as we keep the membrane potential fixed for a very long times (i.e., infinity). \n",
        "\n",
        "$k$ is just a factor that determines the steepness of the slope, the smaller $k$ is, the steeper $m_\\infty(V)$ is.\n",
        "\n",
        "$h$ is described by an equivalent equation:\n",
        "\n",
        "---\n",
        "\n",
        "$$\n",
        "\\dot h = \\frac{h_\\infty(V) - h}{\\tau_h(V)}\n",
        "$$\n",
        "\n",
        "---\n",
        "\n",
        "\n"
      ]
    },
    {
      "cell_type": "markdown",
      "metadata": {
        "id": "FkMjEMYvW25u",
        "colab_type": "text"
      },
      "source": [
        "#### Exercises:\n",
        "\n",
        "1. Given the specific parameters for the activation gates plot the steady state activation functions and time constants for each of the ions.\n",
        "  - here we give the parameters for all of the taus and act gates"
      ]
    },
    {
      "cell_type": "code",
      "metadata": {
        "id": "XKTnH5WC8tNj",
        "colab_type": "code",
        "outputId": "88e23594-82ec-4cd7-fc1b-4162a56711e7",
        "colab": {
          "base_uri": "https://localhost:8080/",
          "height": 549
        }
      },
      "source": [
        "def sigmoid(v_at_half, k, V):\n",
        "  return (1./(1.+np.exp((v_at_half-V)/k)))\n",
        "\n",
        "def tau(C_base, C_amp, V_max, sig, V):    \n",
        "    return C_base +C_amp*np.exp(-(V_max-v)**2/sig**2)\n",
        "\n",
        "v = np.arange(-100.0, 0.0, 1.)\n",
        "\n",
        "m_inf =  sigmoid(-40, 15, v)\n",
        "h_inf =  sigmoid(-62, -7, v)\n",
        "n_inf = sigmoid(-30, 15, v)\n",
        "\n",
        "tau_m = tau(0.46, 0.04, -38, 30, v)\n",
        "tau_h = tau(7.4, 1.2, -67, 20, v)\n",
        "tau_n = tau(1.1, 4.7, -79, 50, v)\n",
        "\n",
        "\n",
        "plt.figure(1)\n",
        "plt.plot(v, m_inf, label= 'm') \n",
        "plt.plot(v, n_inf, label= 'n')\n",
        "plt.plot(v, h_inf, label= 'h')\n",
        "plt.xlabel('$mV$') \n",
        "plt.ylabel('$m_{\\infty}(V)$')\n",
        "legend();\n",
        "\n",
        "     \n",
        "plt.figure(2)\n",
        "plt.plot(v, tau_m, label= 'm') \n",
        "plt.plot(v, tau_n, label= 'n')\n",
        "plt.plot(v, tau_h, label= 'h')\n",
        "plt.xlabel('$mV$') \n",
        "plt.ylabel('$tau(V)$')\n",
        "legend();\n"
      ],
      "execution_count": 0,
      "outputs": [
        {
          "output_type": "display_data",
          "data": {
            "image/png": "[encoded data removed]",
            "text/plain": [
              "<Figure size 432x288 with 1 Axes>"
            ]
          },
          "metadata": {
            "tags": []
          }
        },
        {
          "output_type": "display_data",
          "data": {
            "image/png": "[encoded data removed]",
            "text/plain": [
              "<Figure size 432x288 with 1 Axes>"
            ]
          },
          "metadata": {
            "tags": []
          }
        }
      ]
    },
    {
      "cell_type": "markdown",
      "metadata": {
        "id": "gRt4YQICWLix",
        "colab_type": "text"
      },
      "source": [
        "2. In this example we will plot the dynamics of **INDIVIDUAL** activation variables  after a change of membrane potential. We assume an initial membrane potential of V=-80mV is held for 100ms, and then instantaneously changed it to a new holding potential of V=0mV. "
      ]
    },
    {
      "cell_type": "code",
      "metadata": {
        "id": "WTO0vzMiKvae",
        "colab_type": "code",
        "outputId": "d80f7364-acdf-4b21-dcc1-775cf2620e4b",
        "colab": {
          "base_uri": "https://localhost:8080/",
          "height": 249
        }
      },
      "source": [
        "# define parameters\n",
        "V0 = -80 #  mV\n",
        "T1 = 100 #ms\n",
        "V1 = 0 # mV\n",
        "  \n",
        "def m_inf(V)\n",
        "  return sigmoid(-40, 15, V)\n",
        "\n",
        "def tau_m(V) \n",
        "  return tau(0.46, 0.04, -38, 30, V)\n",
        "\n",
        "# step the dynamics\n",
        "def step_dyn(m, V, deltat):\n",
        "  minf = m_inf(V)\n",
        "  taum = tau_m(V)\n",
        "  dmdt = (minf - m)/ taum\n",
        "  m = deltat * ( (m_inf - m)/taum )\n",
        "  return m\n",
        "\n",
        "deltat = 1 #ms\n",
        "for t in range(0,200):\n",
        "  if t < 100:\n",
        "    V = -80\n",
        "  elif t >= 100:\n",
        "    V = 0\n",
        "  m = step_dyn(m, m_inf, deltat)\n",
        "\n",
        "\n",
        "figure(1)\n",
        "plt.plot(t/deltat, m) \n",
        "xlabel('Time (ms)')\n",
        "ylabel('m')\n"
      ],
      "execution_count": 0,
      "outputs": [
        {
          "output_type": "error",
          "ename": "NameError",
          "evalue": "ignored",
          "traceback": [
            "\u001b[0;31m---------------------------------------------------------------------------\u001b[0m",
            "\u001b[0;31mNameError\u001b[0m                                 Traceback (most recent call last)",
            "\u001b[0;32m<ipython-input-13-3207bca73da0>\u001b[0m in \u001b[0;36m<module>\u001b[0;34m()\u001b[0m\n\u001b[1;32m     22\u001b[0m \u001b[0;34m\u001b[0m\u001b[0m\n\u001b[1;32m     23\u001b[0m \u001b[0mfigure\u001b[0m\u001b[0;34m(\u001b[0m\u001b[0;36m1\u001b[0m\u001b[0;34m)\u001b[0m\u001b[0;34m\u001b[0m\u001b[0;34m\u001b[0m\u001b[0m\n\u001b[0;32m---> 24\u001b[0;31m \u001b[0mplt\u001b[0m\u001b[0;34m.\u001b[0m\u001b[0mplot\u001b[0m\u001b[0;34m(\u001b[0m\u001b[0mt\u001b[0m\u001b[0;34m,\u001b[0m \u001b[0mdyn\u001b[0m\u001b[0;34m)\u001b[0m\u001b[0;34m\u001b[0m\u001b[0;34m\u001b[0m\u001b[0m\n\u001b[0m\u001b[1;32m     25\u001b[0m \u001b[0mxlabel\u001b[0m\u001b[0;34m(\u001b[0m\u001b[0;34m'Time (ms)'\u001b[0m\u001b[0;34m)\u001b[0m\u001b[0;34m\u001b[0m\u001b[0;34m\u001b[0m\u001b[0m\n\u001b[1;32m     26\u001b[0m \u001b[0mylabel\u001b[0m\u001b[0;34m(\u001b[0m\u001b[0;34m'm'\u001b[0m\u001b[0;34m)\u001b[0m\u001b[0;34m\u001b[0m\u001b[0;34m\u001b[0m\u001b[0m\n",
            "\u001b[0;31mNameError\u001b[0m: name 't' is not defined"
          ]
        },
        {
          "output_type": "display_data",
          "data": {
            "text/plain": [
              "<Figure size 432x288 with 0 Axes>"
            ]
          },
          "metadata": {
            "tags": []
          }
        }
      ]
    },
    {
      "cell_type": "code",
      "metadata": {
        "id": "_NT1GOK5M9U1",
        "colab_type": "code",
        "colab": {}
      },
      "source": [
        "# Pseudo Brian2\n",
        "\n",
        "eqs = '''\n",
        "  dmdt = (m_inf-m)/taum*dt\n",
        "  m_inf = ...\n",
        "  taum = ...\n",
        "  '''\n",
        "\n",
        "N = Neurongroup(1, eqs)\n",
        "\n",
        "M = StateMonitor(N,...)\n",
        "\n",
        "\n",
        "N.V = -80\n",
        "\n",
        "N.run(100)\n",
        "\n",
        "N.V = 0\n",
        "N.run(100)\n"
      ],
      "execution_count": 0,
      "outputs": []
    },
    {
      "cell_type": "markdown",
      "metadata": {
        "id": "RxyjJCJnny2p",
        "colab_type": "text"
      },
      "source": [
        "### The Sodium Current Enters the Scene\n",
        "\n",
        "Now we have all the ingredients to understand how the gating variables and the conductance become the sodium current. The current flow to the cell for a given set of ion channels is determined by three elements, the equilibrium potential for the ions, the total number of channels times the single conductance and finally, the gating variables, representing the proportion of open channels.\n",
        "\n"
      ]
    },
    {
      "cell_type": "markdown",
      "metadata": {
        "id": "CSR8ktRsh4VU",
        "colab_type": "text"
      },
      "source": [
        "$I_{Na} = g_{Na} m^3 h (v-E_{Na})$"
      ]
    },
    {
      "cell_type": "markdown",
      "metadata": {
        "id": "_0WNzDg-rR_1",
        "colab_type": "text"
      },
      "source": [
        "#### Sample Code: Voltage Activated Ion Channels"
      ]
    },
    {
      "cell_type": "markdown",
      "metadata": {
        "id": "h9e0-Qbef2pQ",
        "colab_type": "text"
      },
      "source": [
        "Let's first see what happens when we insert an active Sodium ion channel in our model of the membrane. "
      ]
    },
    {
      "cell_type": "markdown",
      "metadata": {
        "id": "vixMjhGVdGJh",
        "colab_type": "text"
      },
      "source": [
        "### Simulating the Sodium Current"
      ]
    },
    {
      "cell_type": "code",
      "metadata": {
        "id": "LSmZZqgzf0PL",
        "colab_type": "code",
        "outputId": "69cff071-c605-4f3e-800c-eb736fbf6f3c",
        "colab": {
          "base_uri": "https://localhost:8080/",
          "height": 54
        }
      },
      "source": [
        "start_scope()\n",
        "\n",
        "# Reversal Potentials\n",
        "E_leak = -70.6 * mV\n",
        "E_Na = 50*mV\n",
        "\n",
        "# Conductances\n",
        "g_leak =  400 * nS ## attention to units!\n",
        "g_Na = 30.0 * uS ## attention to units!\n",
        "\n",
        "# Membrane Capacitance\n",
        "Cm = 281 * pF\n",
        "\n",
        "# define our differential equations\n",
        "eqs_V ='''\n",
        "dv/dt = (I - I_Na )/Cm : volt\n",
        "'''\n",
        "# dv/dt = (I - I_leak - I_Na )/Cm : volt\n",
        "\n",
        "eqs_I = '''\n",
        "I_leak = g_leak * (v- E_leak) : amp\n",
        "I_Na = g_Na*(m*m*m)*h*(v-E_Na) : amp\n",
        "I : amp\n",
        "'''\n",
        "\n",
        "eqs_activation= '''\n",
        "m_inf =  1/(1+exp((-40*mV -v)/(15*mV))) : 1\n",
        "h_inf =  1/(1+exp((-62*mV -v)/(-7*mV))) : 1\n",
        "taum  =  .46*ms + .04*exp(-(-38*mV-v)**2/(30*mV)**2) *ms : second\n",
        "tauh  =  7.4*ms + 1.2*exp(-(-67*mV-v)**2/(20*mV)**2) *ms : second\n",
        "dm/dt = (m_inf - m)/taum : 1\n",
        "dh/dt = (h_inf - h)/tauh : 1\n",
        "'''\n",
        "\n",
        "eqs = eqs_V\n",
        "eqs += eqs_I\n",
        "eqs += eqs_activation\n",
        "\n",
        "G = NeuronGroup(1,eqs, 'euler', dt=0.025*ms)\n",
        "\n",
        "M = StateMonitor(G, ['v','m','h'], record=0)\n",
        "\n",
        "## Run the simulation starting from a hyperpolarized potential.\n",
        "G.v = E_leak\n",
        "G.I = 0*nA\n",
        "G.h = 1 # start with deinactivated channels\n",
        "run(100*ms)\n"
      ],
      "execution_count": 0,
      "outputs": [
        {
          "output_type": "stream",
          "text": [
            "WARNING    \"v\" is an internal variable of group \"neurongroup_1\", but also exists in the run namespace with the value array([-100.,  -99.,  -98., ...,   -3.,   -2.,   -1.]). The internal variable will be used. [brian2.groups.group.Group.resolve.resolution_conflict]\n"
          ],
          "name": "stderr"
        }
      ]
    },
    {
      "cell_type": "code",
      "metadata": {
        "id": "-S7u_v53k11H",
        "colab_type": "code",
        "outputId": "4c55e627-82f5-4123-e752-f7aabf35bce1",
        "colab": {
          "base_uri": "https://localhost:8080/",
          "height": 400
        }
      },
      "source": [
        "# Plot results\n",
        "\n",
        "# prepare a grid to plot graphs  (like function subplot in matlab)\n",
        "grid = plt.GridSpec(5, 1, wspace=0.4, hspace=1)\n",
        "\n",
        "# create figure\n",
        "figure(figsize=(10, 10), dpi= 80, facecolor='w', edgecolor='k')\n",
        "\n",
        "# in the first viewport plot membrane potential vs time\n",
        "subplot(grid[:2, 0])\n",
        "plot(M.t/ms, M.v[0]/mV, label='v')\n",
        "xlabel('Time (ms)')\n",
        "ylabel('V (mV)')\n",
        "legend();\n",
        "\n",
        "# plot the activation variables\n",
        "subplot(grid[2, 0])\n",
        "plot(M.t/ms, M.h[0], label='h')\n",
        "plot(M.t/ms, M.m[0], label='m')\n",
        "xlabel('Time (ms)')\n",
        "ylabel('Gating variables')\n",
        "legend();\n",
        "\n",
        "show()"
      ],
      "execution_count": 0,
      "outputs": [
        {
          "output_type": "display_data",
          "data": {
            "image/png": "[encoded data removed]",
            "text/plain": [
              "<Figure size 800x800 with 2 Axes>"
            ]
          },
          "metadata": {
            "tags": []
          }
        }
      ]
    },
    {
      "cell_type": "markdown",
      "metadata": {
        "id": "pySR6R5dtizG",
        "colab_type": "text"
      },
      "source": [
        "#### Questions: \n",
        "- Why does the membrane potential saturate?\n",
        "- Was there a leak current in this model (read the equations!)?\n",
        "- At the end of the experiment is the channel active or inactive? Which state variable represents that fact?\n",
        "- At the end of the experiment is the channel open or closed? Which state variable represents that fact?"
      ]
    },
    {
      "cell_type": "markdown",
      "metadata": {
        "id": "7YlBhpeAl0ZH",
        "colab_type": "text"
      },
      "source": [
        "#### Answers: \n",
        "- The only effective current is the Na current in the current model because of that the membrane potential saturates when the sodium equilibrium potential is reached.\n",
        "- The leak current wasn't included.\n",
        "- Inactive\n",
        "- Open"
      ]
    },
    {
      "cell_type": "markdown",
      "metadata": {
        "id": "ZBREeA1TdTm8",
        "colab_type": "text"
      },
      "source": [
        "## Attempt!\n",
        "# **The Potassium Channel**\n",
        "\n",
        "The potassium **current** can be expressed by the following equation:\n",
        "\n",
        "----\n",
        "\n",
        "\n",
        "$$ I_k = g_{K} (V - E_k)$$ \n",
        "\n",
        "\n",
        "----\n",
        "\n",
        "where $E_k$ is the potassium reversal potential and ${g}_{K}$ is the conductance of potassium ions. The **conductance** of potassium, which is voltage and time dependent, can be expressed in terms of its gating (activation) variable $n$, or to put it in other words, it can be expressed in terms of the proportion of activated channels.\n",
        "\n",
        "\n",
        "\n",
        "$$\n",
        "g_{K}=\\bar{g}_{K}n^4\n",
        "$$\n",
        "\n",
        "\n",
        "where $\\bar{g}_{K}$ is the maximum conductance, and $n$ is the activation variable. Just like $m$ and $h$ variables, variable $n$ follows the sigmoid fuction. \n",
        "\n",
        "\n",
        "\n",
        "$$ \\frac{dn}{dt} = \\dot{n} = \\frac{n_{\\infty}(V) - n}{\\tau_n} \n",
        "$$\n",
        "\n",
        "\n",
        "where $n$ approaches the target value of $n_\\infty(V)$ with a time constant $\\tau_n$. The change of time constant $\\tau_n$ as a function of voltage can be expressed as:\n",
        "\n",
        "\n",
        "\n",
        "$$\n",
        "\\tau_n(V) = 1.1 + 4.7  e^\\frac{-(-79-V)}{(50)^2}\n",
        "$$\n",
        "\n",
        "\n",
        "\n",
        "We can now add these equations to the model.\n",
        "\n",
        "----"
      ]
    },
    {
      "cell_type": "markdown",
      "metadata": {
        "id": "uRNOIWQBo_z5",
        "colab_type": "text"
      },
      "source": [
        "### Code Exercise: The Potassium Ion Channel"
      ]
    },
    {
      "cell_type": "markdown",
      "metadata": {
        "id": "E5_UfjYItwe1",
        "colab_type": "text"
      },
      "source": [
        "Add a potassium current to the model (note that its activation variable is $n$). Add the following parameters and definitions to the equations following the same syntax as for the Sodium Ion channel. Beware of unit definitions!\n",
        "\n",
        "----\n",
        "\n",
        "$ I_k = \\bar{g}_K n^4 (V - E_k)$\n",
        "\n",
        "$ \\frac{dn}{dt} = \\dot{n} = \\frac{n_{\\infty}(V) - n}{\\tau_n} $\n",
        "\n",
        "$\\tau_n(V) = 1.1 + 4.7  e^\\frac{-(-79-V)}{(50)^2}$\n",
        "\n",
        "$ n_\\infty(V) = \\frac{1}{1+e^{(-53-V)/15}} $\n",
        "\n",
        "$ \\bar{g}_K = 12 \\mu S$\n",
        "\n",
        "----\n",
        "\n"
      ]
    },
    {
      "cell_type": "code",
      "metadata": {
        "id": "uVmOf_XdttPG",
        "colab_type": "code",
        "outputId": "69335a6f-d634-46a1-f9d9-b9f9e6025c3e",
        "colab": {
          "base_uri": "https://localhost:8080/",
          "height": 54
        }
      },
      "source": [
        " start_scope()\n",
        "\n",
        "# Reversal Potentials\n",
        "E_leak = -70.6 * mV\n",
        "E_Na = 50 * mV\n",
        "E_K = 40 * mV\n",
        "\n",
        "# Conductances\n",
        "## attention to UNITS! For instance nS << uS\n",
        "g_leak =  400 * nS \n",
        "g_Na = 30.0 * uS \n",
        "g_K = 12.0 * uS ## \n",
        "# Membrane Capacitance\n",
        "Cm = 281 * pF\n",
        "\n",
        "# here we define our master differential equation. Note that I_k is already here.\n",
        "eqs_V ='''\n",
        "dv/dt = (-I_leak - I_Na - I_K - I)/Cm : volt\n",
        "'''\n",
        "\n",
        "# here we add a definition for the potassium current I_K\n",
        "eqs_I = '''\n",
        "I_leak = g_leak * (v - E_leak) : amp\n",
        "I_Na = g_Na*(m*m*m)*h*(v - E_Na) : amp\n",
        "I_K = g_K*(n*n*n*n)*(v - E_K) : amp\n",
        "I : amp\n",
        "'''\n",
        "# here you add the equations defining the potassium activation gates\n",
        "eqs_activation= '''\n",
        "n_inf =  1/(1+exp((-40*mV -v)/(15*mV))) : 1\n",
        "m_inf =  1/(1+exp((-40*mV -v)/(15*mV))) : 1 ***********\n",
        "h_inf =  1/(1+exp((-62*mV -v)/(-7*mV))) : 1\n",
        "taum  =  .46*ms + .04*exp(-(-38*mV-v)**2/(30*mV)**2) *ms : second\n",
        "tauh  =  7.4*ms + 1.2*exp(-(-67*mV-v)**2/(20*mV)**2) *ms : second\n",
        "taun  =  1.1*ms + 4.7*exp(-(-79*mV-v)**2/(50*mV)**2) *ms : second\n",
        "dm/dt = (m_inf - m)/taum : 1\n",
        "dh/dt = (h_inf - h)/tauh : 1\n",
        "dn/dt = (n_inf - n)/taun : 1\n",
        "'''\n",
        "\n",
        "# 1/((0.01*((10*mV-v)/exp(10*mV-v)/10)-1) + 0.125 * exp(-v/80*mV) )*ms : second\n",
        "\n",
        "# notice that we simply \"concatenate\" the strings with all equations\n",
        "# ( with the operator+=).\n",
        "eqs = eqs_V\n",
        "eqs += eqs_I\n",
        "eqs += eqs_activation\n",
        "\n",
        "G = NeuronGroup(1,eqs, 'euler', dt=0.025*ms)\n",
        "\n",
        "M = StateMonitor(G, ['v','m','h','n'], record=0)\n",
        "\n",
        "## Run an experiment \n",
        "G.I = 0*nA\n",
        "run(200*ms)"
      ],
      "execution_count": 0,
      "outputs": [
        {
          "output_type": "stream",
          "text": [
            "WARNING    \"v\" is an internal variable of group \"neurongroup_1\", but also exists in the run namespace with the value array([-100.,  -99.,  -98., ...,   97.,   98.,   99.]). The internal variable will be used. [brian2.groups.group.Group.resolve.resolution_conflict]\n"
          ],
          "name": "stderr"
        }
      ]
    },
    {
      "cell_type": "markdown",
      "metadata": {
        "id": "TMMMR1QYX1A0",
        "colab_type": "text"
      },
      "source": [
        "## All the currents\n",
        "\n",
        "To summarize the model: According to the Kirchhoff’s law, the total electrical current $I$ flowing across the membrane may be divided into the capacitive current $I_C$, plus all the ionic currents. As we have already discussed, we consider three types of ion channels in this model: the sodium channel ($I_{Na}$), the potassium channel ($I_{K}$), and unspecified passive leakage  ($I_{L}$). \n",
        "\n",
        "Thus we arrive at the final equation defining the model (also called the 'master equation'):\n",
        "\n",
        "----\n",
        "\n",
        "$$ \n",
        "I = I_C + I_{Na}+ I_K + I_L\n",
        "$$\n",
        "\n",
        "\n",
        "----\n",
        "\n",
        "$I_C$, or the capacitive current equals \n",
        "\n",
        "$$\n",
        "I_C = C_m \\frac{dV}{dt}\n",
        "$$\n",
        "\n",
        "or \n",
        "\n",
        "\n",
        "$$\n",
        "I_C = C_m \\dot{V}\n",
        "$$\n",
        "\n",
        "where $C_m$ is the membrane capacitance and $\\dot{V}$ is the change of voltage across the membrane as a function of time. Therefore, we can express the change of voltage accross the membrane by the following equation:\n",
        "\n",
        "----\n",
        "\n",
        "$$ \n",
        "\\dot{V} = \\frac{I - I_{Na}- I_K - I_L}{C_m}\n",
        "$$\n",
        "\n",
        "or\n",
        "\n",
        "$$ \n",
        "  \\dot{V} = \\frac{I - \\bar{g}_{Na} m^3 h (V -E_{Na}) - \\bar{g}_{K} n^4 (V - E_k) - g_L (V - E_L)} {C_m}\n",
        "$$\n",
        "\n",
        "\n",
        "----\n",
        "\n",
        "\n",
        "We will be using this equation in our subsequent code."
      ]
    },
    {
      "cell_type": "markdown",
      "metadata": {
        "id": "omnPOhPbdMVc",
        "colab_type": "text"
      },
      "source": [
        "### Summary of Mechanisms:"
      ]
    },
    {
      "cell_type": "markdown",
      "metadata": {
        "id": "au0DxyyHcgQg",
        "colab_type": "text"
      },
      "source": [
        "After installing sodium and potassium channels we effectively complete the HH model. These are the principal mechanisms in operation:\n",
        "\n",
        "- Sodium channel induces depolarization via positive feedback (m grows with V)\n",
        "- Leak brings the cell back to its resting potential (V-Vrest)\n",
        "- Positive membrane potential induces the inactivation of Sodium (h tends to 0)\n",
        "- Potassium induces hyperpolarization after the spike (n tends to 1)\n",
        "\n",
        "These are tempered by the capacitance, which defines how fast the ionic mechanisms contribute to the effective membrane potential.\n",
        "\n"
      ]
    },
    {
      "cell_type": "code",
      "metadata": {
        "id": "dOi-SHjpeowv",
        "colab_type": "code",
        "outputId": "659c30e4-26a6-43f2-f1d2-79a5c5f43346",
        "colab": {
          "base_uri": "https://localhost:8080/",
          "height": 296
        }
      },
      "source": [
        "start_scope()\n",
        "# define parameters\n",
        "dtt = 0.025*msecond\n",
        "\n",
        "# Reversal Potentials\n",
        "E_leak = -70.6 * mV\n",
        "E_K = -90 * mV\n",
        "E_Na = 50*mV\n",
        "\n",
        "# Conductances\n",
        "g_leak = 30 * nS\n",
        "g_K = 6.0 * nS\n",
        "g_Na = 40.0 * uS\n",
        "\n",
        "# Membrane Capacitance\n",
        "Cm = 281 * pF\n",
        "VT = -50.4 * mV\n",
        "\n",
        "# define differential equations\n",
        "eqs_V ='''\n",
        "dv/dt = (I_Na - I_K + I)/Cm : volt\n",
        "'''\n",
        "\n",
        "eqs_I = '''\n",
        "I_leak = g_leak * (E_leak - v) : amp\n",
        "I_K = g_K*(n*n*n*n)*(v-E_K) : amp\n",
        "I_Na = g_Na*(m*m*m)*h*(v-E_Na) : amp\n",
        "I : amp\n",
        "'''\n",
        "\n",
        "eqs_activation= '''\n",
        "dn/dt = 0.032*(mV**-1)*(15.*mV-v+VT)/\n",
        "    (exp((15.*mV-v+VT)/(5.*mV))-1.)/ms*(1.-n)-.5*exp((10.*mV-v+VT)/(40.*mV))/ms*n : 1    \n",
        "dm/dt = 0.32*(mV**-1)*(13.*mV-v+VT)/\n",
        "    (exp((13.*mV-v+VT)/(4.*mV))-1.)/ms*(1-m)-0.28*(mV**-1)*(v-VT-40.*mV)/\n",
        "    (exp((v-VT-40.*mV)/(5.*mV))-1.)/ms*m : 1\n",
        "dh/dt = 0.128*exp((17.*mV-v+VT)/(18.*mV))/ms*(1.-h)-4./(1+exp((40.*mV-v+VT)/(5.*mV)))/ms*h : 1\n",
        "'''\n",
        "\n",
        "eqs = eqs_V\n",
        "eqs += eqs_I\n",
        "eqs += eqs_activation\n",
        "\n",
        "\n",
        "G = NeuronGroup(1,eqs, 'euler', dt=dtt)\n",
        "G.v = -60*mV\n",
        "G.I = 0.3*nA\n",
        "\n",
        "M = StateMonitor(G, 'v', record=0)\n",
        "\n",
        "\n",
        "run(50*ms)\n",
        "# G.I = 0.3*nA\n",
        "# run(10*ms)\n",
        "# G.I = 0*nA\n",
        "# run(35*ms)\n",
        "\n",
        "plt.gca()\n",
        "plt.plot(M.t/ms, M.v[0]/mV)\n",
        "plt.xlabel('Time (ms)')\n",
        "plt.ylabel('V (mV)')\n"
      ],
      "execution_count": 0,
      "outputs": [
        {
          "output_type": "execute_result",
          "data": {
            "text/plain": [
              "Text(0, 0.5, 'V (mV)')"
            ]
          },
          "metadata": {
            "tags": []
          },
          "execution_count": 16
        },
        {
          "output_type": "display_data",
          "data": {
            "image/png": "[encoded data removed]",
            "text/plain": [
              "<Figure size 432x288 with 1 Axes>"
            ]
          },
          "metadata": {
            "tags": []
          }
        }
      ]
    },
    {
      "cell_type": "markdown",
      "metadata": {
        "id": "kw_ejuZiZxqv",
        "colab_type": "text"
      },
      "source": [
        "#### Comprehension Question:\n",
        "- What would be the dynamics of a cell that has solely Sodium and leak ion channels?\n",
        "- What if the cell only possessed Potassium and Leak ion channels?\n"
      ]
    },
    {
      "cell_type": "markdown",
      "metadata": {
        "id": "t2KYsxINaQEO",
        "colab_type": "text"
      },
      "source": [
        "# The First Model of the Action Potential\n"
      ]
    },
    {
      "cell_type": "markdown",
      "metadata": {
        "id": "DcOxqq27HFIm",
        "colab_type": "text"
      },
      "source": [
        "### The Hodgkin Huxley Model\n",
        "\n",
        "Embodying most of these facts is the **Hodgkin Huxley model** —a **single compartment model** of the giant squid axon — where the **spike generation** is a due to **voltage mediated** **interactions between multiple ion channels** which can lead current out or in the cell, that is, had time and voltage dependence, i.e., **active conductances**. \n",
        "\n",
        "The **HH is a four dimensional model** where the momentary membrane potential ($V_m$) depends on the state variables (m, h, n) describing the different states of the ion channels (e.g., activation and inactivation variables). The evolution of the state variables are represented by differential equations."
      ]
    },
    {
      "cell_type": "markdown",
      "metadata": {
        "id": "oB5Va5W6jHIH",
        "colab_type": "text"
      },
      "source": [
        "### A spike is the product of an imbalance of the current flux\n",
        "\n",
        "There are **two essential components** for the **action potential generation**: a negative feedback which reduces the membrane potential when it’s high (voltage activated potassium) — i.e., hyperpolarizes the membrane when it’s depolarized, and a positive feedback which increases the membrane potential when it’s increased, based on voltage sensitive sodium channels. Spikes appear due to the imbalance/disequilibrium in conductances and their time courses. \n",
        "\n",
        "The time courses and contributions to the membrane potential of the ion channels  are very different: **potassium and sodium de-inactivation are slow** (slow time constant) and while **sodium activates very quickly**. \n",
        "\n",
        "In what follows we will be running experiments to build intuition about how activation variables and membrane potential interact under different stimulation conditions."
      ]
    },
    {
      "cell_type": "markdown",
      "metadata": {
        "id": "AxU6cuqojN04",
        "colab_type": "text"
      },
      "source": [
        "---\n",
        "\n",
        " **Here's an analogy:**. In a house, the number of open windows and air conditioners has to do with the difference between outside and inside temperature, and the temperature preference of people inside the house, **Na**dia, **K**onrad and **Cl**aire.\n",
        " \n",
        "- **Na**dia likes it hot and when the temperature picks up she starts to dance, increasing the temperature in the room. \n",
        "\n",
        "- The hotter **Na**dia gets, the more windows Konrad opens, but that takes time (tau), so the temperature increases faster than Konrad manages to open windows. \n",
        "\n",
        "- But then **Na**dia overheats (spikes) and has to rest for a while (inactivated state). **K**onrad gets activated when he sees that Nadia is dancing, so when she starts to franctically dance, he opens the windows. \n",
        "\n",
        "- Because **Cl**aire likes it cold, she always has an air conditioning on, so temperature is always going lower (heat is constantly leaking at a steady rate).\n",
        "\n",
        "\n",
        "---"
      ]
    },
    {
      "cell_type": "markdown",
      "metadata": {
        "id": "VdW3mCLKVH2b",
        "colab_type": "text"
      },
      "source": [
        "# Comprehension Quiz and Further Exercises"
      ]
    },
    {
      "cell_type": "markdown",
      "metadata": {
        "id": "A8vouIS16zcL",
        "colab_type": "text"
      },
      "source": [
        "## Passive Membrane Properties\n",
        "- What is 'ion channel permeability'?\n",
        "- How is capacitance like friction?\n",
        "- How is the driving force like a spring?\n",
        "- Explain conductance in your own words and why it is different for different ion types.\n",
        "\n",
        "## Active Channels and Gating variables\n",
        "- What are gating variables? What gating variables exist in the typical sodium channel?\n",
        "- When is h at its maximum, at small or large voltages? \n",
        "- When is m at its maximum, at small or large voltages?\n",
        "- What is the unit of g * V_rest?\n",
        "- [take this online quiz](https://www.physiologyweb.com/daily_quiz/physiology_quiz_QBTakR5k4CTyBTLXoKGaSzdZ1bz2N7cq_neuronal_action_potential.html\n",
        ")\n",
        "\n",
        "## Hodgkin Huxley Model \n",
        "- The master equation of the HH model says, in essence, that CV_dot = g(V-Vr). What is the physical unit of the left and of the right of the equation?\n",
        "- Name and discuss three core assumptions of the Hodgkin-Huxley (HH) model. \n",
        "  - What changes do we need in order to adapt the HH model for a human neuron?\n",
        "  - What changes do we need in order to adapt the HH model for a cardiac muscle cell (a non-neuronal excitable cell)?\n"
      ]
    },
    {
      "cell_type": "markdown",
      "metadata": {
        "id": "k9aJkXljN8hm",
        "colab_type": "text"
      },
      "source": [
        "\n",
        "# Further Online Resources"
      ]
    },
    {
      "cell_type": "markdown",
      "metadata": {
        "id": "r01JnlUJZPR8",
        "colab_type": "text"
      },
      "source": [
        "[Nernst Simulator + Resting Membrane Potential](http://www.nernstgoldman.physiology.arizona.edu/#download)\n",
        "\n",
        "[Resting membrane potential](https://www.physiologyweb.com/lecture_notes/resting_membrane_potential/resting_membrane_potential.html)\n",
        "\n",
        "[Action Potential](https://www.physiologyweb.com/lecture_notes/neuronal_action_potential/neuronal_action_potential.html)\n",
        "\n",
        "[Bilipid Layer Permeability](https://www.physiologyweb.com/lecture_notes/biological_membranes/lipid_bilayer_permeability.html)\n",
        "\n",
        "[Derivation of the Nernst Equation](https://www.physiologyweb.com/lecture_notes/resting_membrane_potential/derivation_of_the_nernst_equation.html)\n"
      ]
    },
    {
      "cell_type": "markdown",
      "metadata": {
        "id": "r-rG3CjMCHe7",
        "colab_type": "text"
      },
      "source": [
        "#License\n",
        "\n",
        "<a rel=\"license\" href=\"http://creativecommons.org/licenses/by/4.0/\"><img alt=\"Creative Commons License\" style=\"border-width:0\" src=\"https://i.creativecommons.org/l/by/4.0/88x31.png\" /></a><br />This work is licensed under a <a rel=\"license\" href=\"http://creativecommons.org/licenses/by/4.0/\">Creative Commons Attribution 4.0 International License</a>.\n",
        "\n",
        "Mario Negrello, Daphne Cornelise, Elias Santoro. Figure sources: Geometry of Bursting, Eugene Izhikevich (2007). Saltatory conductance gif by By Dr. Jana - http://docjana.com/saltatory-conduction/\n"
      ]
    }
  ]
}